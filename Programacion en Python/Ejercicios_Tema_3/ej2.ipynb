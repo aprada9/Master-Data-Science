{
 "cells": [
  {
   "cell_type": "markdown",
   "metadata": {},
   "source": [
    "#  Ejercicios "
   ]
  },
  {
   "cell_type": "markdown",
   "metadata": {},
   "source": [
    "#### 1 Ejercicio"
   ]
  },
  {
   "cell_type": "markdown",
   "metadata": {},
   "source": [
    "Dada la lista L = [ 1, 2, 3, 4, 5, 6, 7, 8, 9 ], escribe expresiones en Python que produzcan los siguientes resultados:\n",
    "\n",
    "1. El primer elemento de la lista.\n",
    "2. El último elemento de la lista (Sin conocer la longitud de la lista).\n",
    "3. La sublista con los dos últimos elementos. (Sol: [8, 9])\n",
    "4. La sublista de los elementos que ocupan posiciones pares. (Sol: [1, 3, 5, 7, 9])\n",
    "4. La sublista de los elementos que ocupan posiciones impares. (Sol: [2, 4, 6, 8])"
   ]
  },
  {
   "cell_type": "code",
   "execution_count": 2,
   "metadata": {},
   "outputs": [
    {
     "name": "stdout",
     "output_type": "stream",
     "text": [
      "1\n"
     ]
    }
   ],
   "source": [
    "# Sol 1:\n",
    "L = (1, 2, 3, 4, 5, 6, 7, 8, 9)\n",
    "print(L[0])"
   ]
  },
  {
   "cell_type": "code",
   "execution_count": 3,
   "metadata": {},
   "outputs": [
    {
     "name": "stdout",
     "output_type": "stream",
     "text": [
      "9\n"
     ]
    }
   ],
   "source": [
    "# Sol 2: \n",
    "print(L[-1])"
   ]
  },
  {
   "cell_type": "code",
   "execution_count": 6,
   "metadata": {},
   "outputs": [
    {
     "name": "stdout",
     "output_type": "stream",
     "text": [
      "(8, 9)\n"
     ]
    }
   ],
   "source": [
    "# Sol 3: \n",
    "print(L[-2:])"
   ]
  },
  {
   "cell_type": "code",
   "execution_count": 7,
   "metadata": {},
   "outputs": [
    {
     "name": "stdout",
     "output_type": "stream",
     "text": [
      "(1, 3, 5, 7, 9)\n"
     ]
    }
   ],
   "source": [
    "# Sol 4:\n",
    "print(L[::2])"
   ]
  },
  {
   "cell_type": "code",
   "execution_count": 8,
   "metadata": {},
   "outputs": [
    {
     "name": "stdout",
     "output_type": "stream",
     "text": [
      "(2, 4, 6, 8)\n"
     ]
    }
   ],
   "source": [
    "# Sol 5:\n",
    "print(L[1::2])"
   ]
  },
  {
   "cell_type": "markdown",
   "metadata": {},
   "source": [
    "#### 2 Ejercicio"
   ]
  },
  {
   "cell_type": "markdown",
   "metadata": {},
   "source": [
    "Dada una lista de enteros a y un número entero n, define:\n",
    "1. una función llamada __contar__ que calcule el número de veces que se repite n en a.\n",
    "2. una función llamada __porcentaje__ que calcule el porcentaje de veces que se repite n en a.\n",
    "\n",
    "_Nota_: utiliza los métodos __len__ y __count__. \n",
    "* Puedes ejecutar __list.count?__ para obtener ayuda del método __count__.\n",
    "* Puedes ejecutar __help(list.count)__ para obtener ayuda del método __count__."
   ]
  },
  {
   "cell_type": "code",
   "execution_count": 20,
   "metadata": {
    "collapsed": true
   },
   "outputs": [],
   "source": [
    "# Sol: \n",
    "a = []\n",
    "\n",
    "def contar(n):\n",
    "    return a.count(n)\n"
   ]
  },
  {
   "cell_type": "markdown",
   "metadata": {},
   "source": [
    "Prueba las funciones con los argumentos `a = m` y `n = 4`."
   ]
  },
  {
   "cell_type": "code",
   "execution_count": 21,
   "metadata": {},
   "outputs": [
    {
     "data": {
      "text/plain": [
       "3"
      ]
     },
     "execution_count": 21,
     "metadata": {},
     "output_type": "execute_result"
    }
   ],
   "source": [
    "# Sol: \n",
    "m = [1, 2, 3, 4, 5, 6, 7, 8, 9, 0, 2, 4, 6, 8, 1, 4]\n",
    "a=m\n",
    "contar(4)"
   ]
  },
  {
   "cell_type": "markdown",
   "metadata": {},
   "source": [
    "#### 3 Ejercicio"
   ]
  },
  {
   "cell_type": "markdown",
   "metadata": {},
   "source": [
    "La función  __upper__ del tipo __string__ genera una nueva cadena de caracteres, donde todos los caracteres son mayúsculas.\n",
    "Dada la siguiente cadena:"
   ]
  },
  {
   "cell_type": "code",
   "execution_count": 22,
   "metadata": {},
   "outputs": [
    {
     "data": {
      "text/plain": [
       "'HOLA, ME LLAMO IÑIGO MONTOYA, TÚ MATASTE A MI PADRE. ... PREPÁRATE A MORIR'"
      ]
     },
     "execution_count": 22,
     "metadata": {},
     "output_type": "execute_result"
    }
   ],
   "source": [
    "# ejecuta esta celda\n",
    "s = 'Hola, me llamo Iñigo Montoya, tú mataste a mi padre. ... Prepárate a morir'\n",
    "s.upper()"
   ]
  },
  {
   "cell_type": "markdown",
   "metadata": {},
   "source": [
    "* Genera una cadena __t__ igual que __s__ pero en mayúsculas. Calcula la longitud de t.\n",
    "* Ejecuta la función  __split(',')__. Fíjate en lo que devuelve esa función. \n",
    "* Ejecuta la función __lower()__.\n",
    "* Ejecuta la función  __title()__.\n",
    "* Ejecuta __dir(str)__ para listar las funciones disponibles para trabajar con cadenas."
   ]
  },
  {
   "cell_type": "code",
   "execution_count": 30,
   "metadata": {},
   "outputs": [
    {
     "data": {
      "text/plain": [
       "74"
      ]
     },
     "execution_count": 30,
     "metadata": {},
     "output_type": "execute_result"
    }
   ],
   "source": [
    "# Sol: \n",
    "s = 'Hola, me llamo Iñigo Montoya, tú mataste a mi padre. ... Prepárate a morir'\n",
    "t = s.upper()\n",
    "len(t)\n"
   ]
  },
  {
   "cell_type": "code",
   "execution_count": 31,
   "metadata": {},
   "outputs": [
    {
     "data": {
      "text/plain": [
       "['HOLA',\n",
       " ' ME LLAMO IÑIGO MONTOYA',\n",
       " ' TÚ MATASTE A MI PADRE. ... PREPÁRATE A MORIR']"
      ]
     },
     "execution_count": 31,
     "metadata": {},
     "output_type": "execute_result"
    }
   ],
   "source": [
    "t.split(',')"
   ]
  },
  {
   "cell_type": "code",
   "execution_count": 32,
   "metadata": {},
   "outputs": [
    {
     "data": {
      "text/plain": [
       "'hola, me llamo iñigo montoya, tú mataste a mi padre. ... prepárate a morir'"
      ]
     },
     "execution_count": 32,
     "metadata": {},
     "output_type": "execute_result"
    }
   ],
   "source": [
    "t.lower()"
   ]
  },
  {
   "cell_type": "code",
   "execution_count": 33,
   "metadata": {},
   "outputs": [
    {
     "data": {
      "text/plain": [
       "'Hola, Me Llamo Iñigo Montoya, Tú Mataste A Mi Padre. ... Prepárate A Morir'"
      ]
     },
     "execution_count": 33,
     "metadata": {},
     "output_type": "execute_result"
    }
   ],
   "source": [
    "t.title()"
   ]
  },
  {
   "cell_type": "code",
   "execution_count": 35,
   "metadata": {},
   "outputs": [
    {
     "data": {
      "text/plain": [
       "['__add__',\n",
       " '__class__',\n",
       " '__contains__',\n",
       " '__delattr__',\n",
       " '__dir__',\n",
       " '__doc__',\n",
       " '__eq__',\n",
       " '__format__',\n",
       " '__ge__',\n",
       " '__getattribute__',\n",
       " '__getitem__',\n",
       " '__getnewargs__',\n",
       " '__gt__',\n",
       " '__hash__',\n",
       " '__init__',\n",
       " '__init_subclass__',\n",
       " '__iter__',\n",
       " '__le__',\n",
       " '__len__',\n",
       " '__lt__',\n",
       " '__mod__',\n",
       " '__mul__',\n",
       " '__ne__',\n",
       " '__new__',\n",
       " '__reduce__',\n",
       " '__reduce_ex__',\n",
       " '__repr__',\n",
       " '__rmod__',\n",
       " '__rmul__',\n",
       " '__setattr__',\n",
       " '__sizeof__',\n",
       " '__str__',\n",
       " '__subclasshook__',\n",
       " 'capitalize',\n",
       " 'casefold',\n",
       " 'center',\n",
       " 'count',\n",
       " 'encode',\n",
       " 'endswith',\n",
       " 'expandtabs',\n",
       " 'find',\n",
       " 'format',\n",
       " 'format_map',\n",
       " 'index',\n",
       " 'isalnum',\n",
       " 'isalpha',\n",
       " 'isdecimal',\n",
       " 'isdigit',\n",
       " 'isidentifier',\n",
       " 'islower',\n",
       " 'isnumeric',\n",
       " 'isprintable',\n",
       " 'isspace',\n",
       " 'istitle',\n",
       " 'isupper',\n",
       " 'join',\n",
       " 'ljust',\n",
       " 'lower',\n",
       " 'lstrip',\n",
       " 'maketrans',\n",
       " 'partition',\n",
       " 'replace',\n",
       " 'rfind',\n",
       " 'rindex',\n",
       " 'rjust',\n",
       " 'rpartition',\n",
       " 'rsplit',\n",
       " 'rstrip',\n",
       " 'split',\n",
       " 'splitlines',\n",
       " 'startswith',\n",
       " 'strip',\n",
       " 'swapcase',\n",
       " 'title',\n",
       " 'translate',\n",
       " 'upper',\n",
       " 'zfill']"
      ]
     },
     "execution_count": 35,
     "metadata": {},
     "output_type": "execute_result"
    }
   ],
   "source": [
    "dir(str)"
   ]
  },
  {
   "cell_type": "markdown",
   "metadata": {},
   "source": [
    "#### 4 Ejercicio\n",
    "\n",
    "Dada la lista de las ciudades más pobladas de Italia __it__:\n",
    "\n",
    "it = [ 'Roma', 'Milán', 'Nápoles', 'Turín', 'Palermo' , 'Génova',\n",
    "      'Bolonia', 'Florencia', 'Bari', 'Catania']\n",
    "      \n",
    "* Crea un diccionario donde la clave sea la posición que ocupa cada ciudad en la lista. Para hacerlo sigue estas indicaciones:\n",
    "    * Crea una secuencia de enteros mediante la función __range__. El inicio de la secuencia es el cero y el fin de la secuencia es la longitud de la lista de poblaciones de Italia.\n",
    "    * Crea una lista __m__ de tuplas del tipo  (pos, ciudad). Utiliza la función __zip__.\n",
    "    * Utiliza la función __dict__ para construir el diccionario a partir de la lista __m__."
   ]
  },
  {
   "cell_type": "code",
   "execution_count": null,
   "metadata": {
    "collapsed": true
   },
   "outputs": [],
   "source": [
    "# El diccionario pedido tiene esta forma:\n",
    "\n",
    "\"\"\"\n",
    "{0: 'Roma',\n",
    " 1: 'Milán',\n",
    " 2: 'Nápoles',\n",
    " 3: 'Turín',\n",
    " 4: 'Palermo',\n",
    " 5: 'Génova',\n",
    " 6: 'Bolonia',\n",
    " 7: 'Florencia',\n",
    " 8: 'Bari',\n",
    " 9: 'Catania'}\n",
    "\"\"\""
   ]
  },
  {
   "cell_type": "code",
   "execution_count": 11,
   "metadata": {},
   "outputs": [
    {
     "data": {
      "text/plain": [
       "{0: 'Roma',\n",
       " 1: 'Milán',\n",
       " 2: 'Nápoles',\n",
       " 3: 'Turín',\n",
       " 4: 'Palermo',\n",
       " 5: 'Génova',\n",
       " 6: 'Bolonia',\n",
       " 7: 'Florencia',\n",
       " 8: 'Bari',\n",
       " 9: 'Catania'}"
      ]
     },
     "execution_count": 11,
     "metadata": {},
     "output_type": "execute_result"
    }
   ],
   "source": [
    "# Sol:\n",
    "it = [ 'Roma', 'Milán', 'Nápoles', 'Turín', 'Palermo' , 'Génova', 'Bolonia', 'Florencia', 'Bari', 'Catania']\n",
    "it\n",
    "n=range(10)\n",
    "a=list(n)\n",
    "m=list(zip(a,it))\n",
    "\n",
    "dict(m)"
   ]
  },
  {
   "cell_type": "markdown",
   "metadata": {},
   "source": [
    "#### 5 Ejercicio\n",
    "\n",
    "La función __convertirF2C__ convierte grados Fahrenheit en grados centígrados. "
   ]
  },
  {
   "cell_type": "code",
   "execution_count": 39,
   "metadata": {
    "collapsed": true
   },
   "outputs": [],
   "source": [
    "# Ejecuta esta celda\n",
    "def convertirF2C(f):\n",
    "    return  ( f - 32 ) * 5 / 9\n"
   ]
  },
  {
   "cell_type": "markdown",
   "metadata": {},
   "source": [
    "* Utiliza la función __convertirF2C__ para generar la siguiente tabla de conversión:\n",
    "\n",
    "```\n",
    "0:º F = -17.8º C\n",
    "10:º F = -12.2º C\n",
    "20:º F = -6.7º C\n",
    "    ...\n",
    "100:º F = 37.8º C\n",
    "110:º F = 43.3º C\n",
    "120:º F = 48.9º C\n",
    "```\n",
    "\n",
    "__Nota__:\n",
    "* Genera la lista de valores [0, ... , 120] con la función __range__.\n",
    "* Utiliza un bucle __for__ para calcular los grados centígrados de cada elemento de la lista de valores.\n",
    "* Utiliza los operadores de formato `%d` y `%.1f` para escribir los resultados."
   ]
  },
  {
   "cell_type": "code",
   "execution_count": 77,
   "metadata": {
    "scrolled": true
   },
   "outputs": [
    {
     "name": "stdout",
     "output_type": "stream",
     "text": [
      "0 grados fahrenheit equivalen a -17.78 grados centígrados\n",
      "10 grados fahrenheit equivalen a -12.22 grados centígrados\n",
      "20 grados fahrenheit equivalen a -6.67 grados centígrados\n",
      "30 grados fahrenheit equivalen a -1.11 grados centígrados\n",
      "40 grados fahrenheit equivalen a 4.44 grados centígrados\n",
      "50 grados fahrenheit equivalen a 10.00 grados centígrados\n",
      "60 grados fahrenheit equivalen a 15.56 grados centígrados\n",
      "70 grados fahrenheit equivalen a 21.11 grados centígrados\n",
      "80 grados fahrenheit equivalen a 26.67 grados centígrados\n",
      "90 grados fahrenheit equivalen a 32.22 grados centígrados\n",
      "100 grados fahrenheit equivalen a 37.78 grados centígrados\n",
      "110 grados fahrenheit equivalen a 43.33 grados centígrados\n",
      "120 grados fahrenheit equivalen a 48.89 grados centígrados\n"
     ]
    }
   ],
   "source": [
    "e= range(0,121,10)\n",
    "\n",
    "for j in e: \n",
    "   [print('%d grados fahrenheit equivalen a %.2f grados centígrados' %(j, convertirF2C(j)))]\n",
    "\n"
   ]
  },
  {
   "cell_type": "code",
   "execution_count": 80,
   "metadata": {},
   "outputs": [
    {
     "data": {
      "text/plain": [
       "{0: -17.77777777777778,\n",
       " 10: -12.222222222222221,\n",
       " 20: -6.666666666666667,\n",
       " 30: -1.1111111111111112,\n",
       " 40: 4.444444444444445,\n",
       " 50: 10.0,\n",
       " 60: 15.555555555555555,\n",
       " 70: 21.11111111111111,\n",
       " 80: 26.666666666666668,\n",
       " 90: 32.22222222222222,\n",
       " 100: 37.77777777777778,\n",
       " 110: 43.333333333333336,\n",
       " 120: 48.888888888888886}"
      ]
     },
     "execution_count": 80,
     "metadata": {},
     "output_type": "execute_result"
    }
   ],
   "source": [
    "g=range(0,121,10) \n",
    "grados=list(g)\n",
    "b=[]\n",
    "for i in grados:\n",
    "    b.append(convertirF2C(i))\n",
    "   \n",
    "t=list(zip(g,b))\n",
    "dict(t)"
   ]
  },
  {
   "cell_type": "markdown",
   "metadata": {},
   "source": [
    "#### 6 Ejercicio\n",
    "\n",
    "Los 15 primeros números triangulares son:\n",
    "\n",
    "```\n",
    "[0, 1, 3, 6, 10, 15, 21, 28, 36, 45, 55, 66, 78, 91, 105]\n",
    "```\n",
    "\n",
    "Define una función __triang_1__ que reciba un número entero positivo $n$ como argumento y genere la lista de los `n` primeros números triangulares. Resuelve el problema aplicando la fórmula a_n = n * (n + 1) / 2. __Utiliza listas por comprensión__.\n",
    "\n",
    "__Nota:__\n",
    "\n",
    "* Genera primero los n primeros números comenzando por el 0 y utilizando la función __range__.\n",
    "\n",
    "\n"
   ]
  },
  {
   "cell_type": "code",
   "execution_count": 98,
   "metadata": {},
   "outputs": [
    {
     "data": {
      "text/plain": [
       "[0, 1, 2, 3, 4, 5, 6, 7, 8, 9, 10, 11, 12, 13, 14]"
      ]
     },
     "execution_count": 98,
     "metadata": {},
     "output_type": "execute_result"
    }
   ],
   "source": [
    "n=range(15)\n",
    "list(n)"
   ]
  },
  {
   "cell_type": "code",
   "execution_count": 101,
   "metadata": {
    "collapsed": true
   },
   "outputs": [],
   "source": [
    "# Sol:\n",
    "def triang_1(n):\n",
    "    l=[]\n",
    "    l=[x*(x+1)/2 for x in range(n)]\n",
    "    return(l)"
   ]
  },
  {
   "cell_type": "code",
   "execution_count": 102,
   "metadata": {},
   "outputs": [
    {
     "data": {
      "text/plain": [
       "[0.0,\n",
       " 1.0,\n",
       " 3.0,\n",
       " 6.0,\n",
       " 10.0,\n",
       " 15.0,\n",
       " 21.0,\n",
       " 28.0,\n",
       " 36.0,\n",
       " 45.0,\n",
       " 55.0,\n",
       " 66.0,\n",
       " 78.0,\n",
       " 91.0,\n",
       " 105.0]"
      ]
     },
     "execution_count": 102,
     "metadata": {},
     "output_type": "execute_result"
    }
   ],
   "source": [
    "triang_1(15)"
   ]
  },
  {
   "cell_type": "markdown",
   "metadata": {},
   "source": [
    "#### 7 Ejercicio\n",
    "\n",
    "Dado el diccionario de las ciudades más pobladas de Italia __ciudades__:\n",
    "\n",
    "d =  { 1: 'Roma', 2: 'Milán', 3:'Nápoles', 4:'Turín', 5:'Palermo' ,6: 'Génova',\n",
    "      7:'Bolonia', 8:'Florencia', 9:'Bari', 10:'Catania'}\n",
    "      \n",
    "y la lista __pob__ que contiene información de la cantidad de población en cada ciudad:\n",
    "\n",
    "pob =  [2718768, 1299633, 973132, 908263, 663173, 610887, 372256, 364710, 322511, 298957]\n",
    "\n",
    "* crea un nuevo diccionario donde cada elemento sea de la forma\n",
    "\n",
    "__i: [ciudad,poblacion]__\n",
    "\n",
    "__Nota__: Utiliza listas por comprensión. La función __enumerate__ también te puede ayudar."
   ]
  },
  {
   "cell_type": "code",
   "execution_count": 90,
   "metadata": {},
   "outputs": [
    {
     "data": {
      "text/plain": [
       "dict_values(['Roma', 'Milán', 'Nápoles', 'Turín', 'Palermo', 'Génova', 'Bolonia', 'Florencia', 'Bari', 'Catania'])"
      ]
     },
     "execution_count": 90,
     "metadata": {},
     "output_type": "execute_result"
    }
   ],
   "source": [
    "pob = [2718768, 1299633, 973132, 908263, 663173, 610887, 372256, 364710, \n",
    "       322511, 298957]\n",
    "d = { 1: 'Roma', 2: 'Milán', 3:'Nápoles', 4:'Turín', 5:'Palermo' ,\n",
    "     6: 'Génova',   \\\n",
    "      7:'Bolonia', 8:'Florencia', 9:'Bari', 10:'Catania'}\n",
    "# Sol\n",
    "\n",
    "d.values()"
   ]
  },
  {
   "cell_type": "code",
   "execution_count": 94,
   "metadata": {},
   "outputs": [
    {
     "data": {
      "text/plain": [
       "{'Bari': 322511,\n",
       " 'Bolonia': 372256,\n",
       " 'Catania': 298957,\n",
       " 'Florencia': 364710,\n",
       " 'Génova': 610887,\n",
       " 'Milán': 1299633,\n",
       " 'Nápoles': 973132,\n",
       " 'Palermo': 663173,\n",
       " 'Roma': 2718768,\n",
       " 'Turín': 908263}"
      ]
     },
     "execution_count": 94,
     "metadata": {},
     "output_type": "execute_result"
    }
   ],
   "source": [
    "i=list(zip(d.values(),pob))\n",
    "dict(i)\n"
   ]
  },
  {
   "cell_type": "markdown",
   "metadata": {},
   "source": [
    "-------------------"
   ]
  }
 ],
 "metadata": {
  "anaconda-cloud": {},
  "kernelspec": {
   "display_name": "Python 3",
   "language": "python",
   "name": "python3"
  },
  "language_info": {
   "codemirror_mode": {
    "name": "ipython",
    "version": 3
   },
   "file_extension": ".py",
   "mimetype": "text/x-python",
   "name": "python",
   "nbconvert_exporter": "python",
   "pygments_lexer": "ipython3",
   "version": "3.6.1"
  },
  "toc": {
   "colors": {
    "hover_highlight": "#DAA520",
    "running_highlight": "#FF0000",
    "selected_highlight": "#FFD700"
   },
   "moveMenuLeft": true,
   "nav_menu": {
    "height": "161px",
    "width": "252px"
   },
   "navigate_menu": true,
   "number_sections": true,
   "sideBar": true,
   "threshold": 4,
   "toc_cell": false,
   "toc_section_display": "block",
   "toc_window_display": false,
   "widenNotebook": false
  }
 },
 "nbformat": 4,
 "nbformat_minor": 1
}
